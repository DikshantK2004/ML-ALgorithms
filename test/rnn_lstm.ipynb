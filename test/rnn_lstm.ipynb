{
 "cells": [
  {
   "cell_type": "code",
   "execution_count": 1,
   "metadata": {},
   "outputs": [],
   "source": [
    "%run setup.env"
   ]
  },
  {
   "cell_type": "code",
   "execution_count": 21,
   "metadata": {},
   "outputs": [
    {
     "name": "stdout",
     "output_type": "stream",
     "text": [
      "[[ 0.00564235  0.08069242  0.38756324  0.32411825  0.05426007 -0.98825571\n",
      "   0.10283053  0.03314885]]\n",
      "(1, 10) (1, 8)\n"
     ]
    },
    {
     "ename": "ValueError",
     "evalue": "non-broadcastable output operand with shape (10,8) doesn't match the broadcast shape (10,10,8)",
     "output_type": "error",
     "traceback": [
      "\u001b[0;31m---------------------------------------------------------------------------\u001b[0m",
      "\u001b[0;31mValueError\u001b[0m                                Traceback (most recent call last)",
      "Cell \u001b[0;32mIn[21], line 26\u001b[0m\n\u001b[1;32m     24\u001b[0m \u001b[38;5;28mprint\u001b[39m(output_grad)\n\u001b[1;32m     25\u001b[0m \u001b[38;5;66;03m# Backward pass\u001b[39;00m\n\u001b[0;32m---> 26\u001b[0m \u001b[43mrnn\u001b[49m\u001b[38;5;241;43m.\u001b[39;49m\u001b[43mbackward\u001b[49m\u001b[43m(\u001b[49m\u001b[43moutput_grad\u001b[49m\u001b[43m,\u001b[49m\u001b[43m \u001b[49m\u001b[43mlearning_rate\u001b[49m\u001b[43m)\u001b[49m\n\u001b[1;32m     28\u001b[0m \u001b[38;5;28;01mif\u001b[39;00m epoch \u001b[38;5;241m%\u001b[39m \u001b[38;5;241m10\u001b[39m \u001b[38;5;241m==\u001b[39m \u001b[38;5;241m0\u001b[39m:\n\u001b[1;32m     29\u001b[0m     \u001b[38;5;28mprint\u001b[39m(\u001b[38;5;124mf\u001b[39m\u001b[38;5;124m'\u001b[39m\u001b[38;5;124mEpoch \u001b[39m\u001b[38;5;132;01m{\u001b[39;00mepoch\u001b[38;5;132;01m}\u001b[39;00m\u001b[38;5;124m, Loss: \u001b[39m\u001b[38;5;132;01m{\u001b[39;00mloss\u001b[38;5;132;01m:\u001b[39;00m\u001b[38;5;124m.4f\u001b[39m\u001b[38;5;132;01m}\u001b[39;00m\u001b[38;5;124m'\u001b[39m)\n",
      "File \u001b[0;32m~/Projects/MLAlgorithms/algorithms/nn/layers.py:386\u001b[0m, in \u001b[0;36mRNNCell.backward\u001b[0;34m(self, output_grad, lr)\u001b[0m\n\u001b[1;32m    384\u001b[0m \u001b[38;5;28minput\u001b[39m, hidden_state, unactivated_hidden_state, unactivated_output, activated_output, new_hidden_state \u001b[38;5;241m=\u001b[39m \u001b[38;5;28mself\u001b[39m\u001b[38;5;241m.\u001b[39mhistory[\u001b[38;5;241m-\u001b[39m\u001b[38;5;241m1\u001b[39m]\n\u001b[1;32m    385\u001b[0m \u001b[38;5;28mprint\u001b[39m(new_hidden_state\u001b[38;5;241m.\u001b[39mshape, output_grad\u001b[38;5;241m.\u001b[39mshape)\n\u001b[0;32m--> 386\u001b[0m \u001b[38;5;28mself\u001b[39m\u001b[38;5;241m.\u001b[39mhy_grad \u001b[38;5;241m+\u001b[39m\u001b[38;5;241m=\u001b[39m np\u001b[38;5;241m.\u001b[39marray([new_hidden_state])\u001b[38;5;241m.\u001b[39mT \u001b[38;5;241m@\u001b[39m np\u001b[38;5;241m.\u001b[39marray([output_grad])\n\u001b[1;32m    387\u001b[0m output_grad \u001b[38;5;241m=\u001b[39m output_grad \u001b[38;5;241m@\u001b[39m \u001b[38;5;28mself\u001b[39m\u001b[38;5;241m.\u001b[39mweights_hy\u001b[38;5;241m.\u001b[39mT\n\u001b[1;32m    388\u001b[0m \u001b[38;5;28;01mwhile\u001b[39;00m \u001b[38;5;28mlen\u001b[39m(\u001b[38;5;28mself\u001b[39m\u001b[38;5;241m.\u001b[39mhistory) \u001b[38;5;241m>\u001b[39m \u001b[38;5;241m0\u001b[39m:\n",
      "\u001b[0;31mValueError\u001b[0m: non-broadcastable output operand with shape (10,8) doesn't match the broadcast shape (10,10,8)"
     ]
    }
   ],
   "source": [
    "# Assuming your RNNCell class is already defined as provided\n",
    "from algorithms.nn.layers import RNNCell\n",
    "from algorithms.nn.activations import softmax\n",
    "\n",
    "# Initialize the RNN cell\n",
    "input_size = vocab_size\n",
    "hidden_size = 10  # Number of hidden units\n",
    "output_size = vocab_size\n",
    "rnn = RNNCell(input_size, hidden_size, output_size, final_activation=softmax)\n",
    "\n",
    "# Training the RNN\n",
    "epochs = 100\n",
    "learning_rate = 0.01\n",
    "\n",
    "for epoch in range(epochs):\n",
    "    # Forward pass\n",
    "    output = rnn.forward(inputs)\n",
    "    \n",
    "    # print(output)\n",
    "    # Calculate loss (cross-entropy)\n",
    "    loss = -np.sum(targets[-1] * np.log(output + 1e-8))  # Add a small value to avoid log(0)\n",
    "    # Calculate gradient of the loss with respect to the output\n",
    "    output_grad = output - targets[-1]\n",
    "    # Backward pass\n",
    "    rnn.backward(output_grad, learning_rate)\n",
    "    \n",
    "    if epoch % 10 == 0:\n",
    "        print(f'Epoch {epoch}, Loss: {loss:.4f}')\n",
    "\n",
    "# Testing the RNN\n",
    "test_input = [one_hot_encode('h', vocab_size)]\n",
    "predicted_output, _ = rnn.forward_one(test_input[0])\n",
    "predicted_char = ix_to_char[np.argmax(predicted_output)]\n",
    "print(f'Predicted next character: {predicted_char}')\n"
   ]
  },
  {
   "cell_type": "code",
   "execution_count": null,
   "metadata": {},
   "outputs": [
    {
     "data": {
      "text/plain": [
       "[array([1., 0., 0., 0., 0., 0., 0., 0.]),\n",
       " array([0., 0., 0., 0., 0., 0., 1., 0.]),\n",
       " array([0., 0., 0., 0., 0., 1., 0., 0.]),\n",
       " array([0., 0., 0., 0., 0., 1., 0., 0.]),\n",
       " array([0., 0., 0., 0., 0., 0., 0., 1.]),\n",
       " array([0., 1., 0., 0., 0., 0., 0., 0.]),\n",
       " array([0., 0., 0., 0., 1., 0., 0., 0.]),\n",
       " array([0., 0., 0., 0., 0., 0., 0., 1.]),\n",
       " array([0., 0., 0., 1., 0., 0., 0., 0.]),\n",
       " array([0., 0., 0., 0., 0., 1., 0., 0.])]"
      ]
     },
     "execution_count": 3,
     "metadata": {},
     "output_type": "execute_result"
    }
   ],
   "source": [
    "inputs"
   ]
  }
 ],
 "metadata": {
  "kernelspec": {
   "display_name": "main_gate",
   "language": "python",
   "name": "python3"
  },
  "language_info": {
   "codemirror_mode": {
    "name": "ipython",
    "version": 3
   },
   "file_extension": ".py",
   "mimetype": "text/x-python",
   "name": "python",
   "nbconvert_exporter": "python",
   "pygments_lexer": "ipython3",
   "version": "3.8.19"
  }
 },
 "nbformat": 4,
 "nbformat_minor": 2
}
