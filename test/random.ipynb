{
 "cells": [
  {
   "cell_type": "code",
   "execution_count": 2,
   "metadata": {},
   "outputs": [],
   "source": [
    "import numpy as np"
   ]
  },
  {
   "cell_type": "code",
   "execution_count": 7,
   "metadata": {},
   "outputs": [
    {
     "name": "stdout",
     "output_type": "stream",
     "text": [
      "[[1 2 3]\n",
      " [4 5 6]\n",
      " [7 8 9]]\n"
     ]
    },
    {
     "data": {
      "text/plain": [
       "array([[ 30,  36,  42],\n",
       "       [ 66,  81,  96],\n",
       "       [102, 126, 150]])"
      ]
     },
     "execution_count": 7,
     "metadata": {},
     "output_type": "execute_result"
    }
   ],
   "source": [
    "arr1 = np.arange(1, 10).reshape(3, 3)\n",
    "arr2 = np.arange(1, 10).reshape(3, 3)\n",
    "print(arr1)\n",
    "arr1@arr2"
   ]
  },
  {
   "cell_type": "code",
   "execution_count": 4,
   "metadata": {},
   "outputs": [
    {
     "data": {
      "text/plain": [
       "array([[ 30,  36,  42],\n",
       "       [ 66,  81,  96],\n",
       "       [102, 126, 150]])"
      ]
     },
     "execution_count": 4,
     "metadata": {},
     "output_type": "execute_result"
    }
   ],
   "source": [
    "np.dot(arr1, arr2)"
   ]
  },
  {
   "cell_type": "code",
   "execution_count": 8,
   "metadata": {},
   "outputs": [
    {
     "data": {
      "text/plain": [
       "array([[ 14,  32,  50],\n",
       "       [ 32,  77, 122],\n",
       "       [ 50, 122, 194]])"
      ]
     },
     "execution_count": 8,
     "metadata": {},
     "output_type": "execute_result"
    }
   ],
   "source": [
    "np.dot(arr1, arr2.T)"
   ]
  },
  {
   "cell_type": "code",
   "execution_count": 15,
   "metadata": {},
   "outputs": [
    {
     "ename": "ValueError",
     "evalue": "matmul: Input operand 1 has a mismatch in its core dimension 0, with gufunc signature (n?,k),(k,m?)->(n?,m?) (size 3 is different from 4)",
     "output_type": "error",
     "traceback": [
      "\u001b[0;31m---------------------------------------------------------------------------\u001b[0m",
      "\u001b[0;31mValueError\u001b[0m                                Traceback (most recent call last)",
      "Cell \u001b[0;32mIn[15], line 3\u001b[0m\n\u001b[1;32m      1\u001b[0m arr1 \u001b[38;5;241m=\u001b[39m np\u001b[38;5;241m.\u001b[39marange(\u001b[38;5;241m1\u001b[39m,\u001b[38;5;241m13\u001b[39m)\u001b[38;5;241m.\u001b[39mreshape((\u001b[38;5;241m3\u001b[39m,\u001b[38;5;241m4\u001b[39m))\n\u001b[1;32m      2\u001b[0m arr2 \u001b[38;5;241m=\u001b[39m np\u001b[38;5;241m.\u001b[39marange(\u001b[38;5;241m1\u001b[39m,\u001b[38;5;241m10\u001b[39m)\u001b[38;5;241m.\u001b[39mreshape((\u001b[38;5;241m3\u001b[39m,\u001b[38;5;241m3\u001b[39m))\n\u001b[0;32m----> 3\u001b[0m \u001b[38;5;28mprint\u001b[39m(\u001b[43marr1\u001b[49m\u001b[38;5;129;43m@arr2\u001b[39;49m)\n",
      "\u001b[0;31mValueError\u001b[0m: matmul: Input operand 1 has a mismatch in its core dimension 0, with gufunc signature (n?,k),(k,m?)->(n?,m?) (size 3 is different from 4)"
     ]
    }
   ],
   "source": [
    "arr1 = np.arange(1,13)\n",
    "arr2 = np.arange(1,10)\n",
    "print(arr1@arr2)"
   ]
  },
  {
   "cell_type": "code",
   "execution_count": 4,
   "metadata": {},
   "outputs": [
    {
     "data": {
      "text/plain": [
       "array([[ 1,  4,  7],\n",
       "       [ 2,  5,  8],\n",
       "       [ 3,  6,  9],\n",
       "       [ 4,  7, 10]])"
      ]
     },
     "execution_count": 4,
     "metadata": {},
     "output_type": "execute_result"
    }
   ],
   "source": [
    "arr1 = np.arange(1,13).reshape(3,4)\n",
    "arr2 = np.arange(3)\n",
    "\n",
    "arr1.T - arr2"
   ]
  },
  {
   "cell_type": "code",
   "execution_count": 1,
   "metadata": {},
   "outputs": [
    {
     "data": {
      "text/plain": [
       "array([[0.16771087, 0.92118012, 0.51159139],\n",
       "       [0.77370096, 0.54928999, 0.54361283],\n",
       "       [0.14935368, 0.50056344, 0.33428217]])"
      ]
     },
     "execution_count": 1,
     "metadata": {},
     "output_type": "execute_result"
    }
   ],
   "source": [
    "import numpy as np\n",
    "\n",
    "np.random.random((3, 3))"
   ]
  },
  {
   "cell_type": "code",
   "execution_count": 2,
   "metadata": {},
   "outputs": [
    {
     "data": {
      "text/plain": [
       "array([[54., 63.]])"
      ]
     },
     "execution_count": 2,
     "metadata": {},
     "output_type": "execute_result"
    }
   ],
   "source": [
    "import numpy as np\n",
    "import scipy as sp\n",
    "mat1 = np.arange(1, 13).reshape((3, 4))\n",
    "mat2 = np.ones(9).reshape((3,3))\n",
    "sp.signal.convolve(mat1, mat2, \"valid\")"
   ]
  },
  {
   "cell_type": "code",
   "execution_count": 7,
   "metadata": {},
   "outputs": [
    {
     "data": {
      "text/plain": [
       "array([[[ 1,  2,  3,  4],\n",
       "        [ 5,  6,  7,  8],\n",
       "        [ 9, 10, 11, 12]],\n",
       "\n",
       "       [[13, 14, 15, 16],\n",
       "        [17, 18, 19, 20],\n",
       "        [21, 22, 23, 24]]])"
      ]
     },
     "execution_count": 7,
     "metadata": {},
     "output_type": "execute_result"
    }
   ],
   "source": [
    "mat3 = np.arange(1, 25).reshape((2,3,4))\n",
    "\n",
    "mat3"
   ]
  },
  {
   "cell_type": "code",
   "execution_count": 51,
   "metadata": {},
   "outputs": [],
   "source": [
    "num_filter = 3\n",
    "kernel_size = (3,3)\n",
    "stride = 2\n",
    "padding = 1\n",
    "n_channels = 3\n",
    "weights = np.random.randn(num_filter, n_channels,*kernel_size)\n",
    "biases = np.random.randn(num_filter)\n",
    "input = None\n",
    "output = None\n",
    "input_padded = None"
   ]
  },
  {
   "cell_type": "code",
   "execution_count": 52,
   "metadata": {},
   "outputs": [
    {
     "data": {
      "text/plain": [
       "array([[[[-0.81936614, -0.24200816, -1.19256164,  1.40125863,\n",
       "           1.67646243],\n",
       "         [ 0.25715611,  0.51513027,  2.18946655, -0.06640023,\n",
       "          -0.50173168],\n",
       "         [ 0.51887138,  0.59468809, -0.3714143 , -0.47715862,\n",
       "           1.59513974],\n",
       "         [ 0.89773427, -1.23253664,  3.18596911, -0.29458732,\n",
       "           0.73859799],\n",
       "         [-2.16489822, -0.48999919, -2.24804261,  0.66145544,\n",
       "          -0.99837207]],\n",
       "\n",
       "        [[ 0.65172439, -0.52674415,  0.81381309,  2.34503397,\n",
       "           0.75258697],\n",
       "         [ 0.0512744 , -0.76841714, -1.1651662 , -0.17690113,\n",
       "           0.03229236],\n",
       "         [ 0.89980069, -1.28973432,  1.41027578, -1.13912803,\n",
       "           1.00741999],\n",
       "         [-1.41616572, -0.31451381,  0.80598681,  0.63490699,\n",
       "          -1.81621171],\n",
       "         [-0.29735088,  0.69289712,  0.38187456,  0.75766563,\n",
       "           0.22829801]],\n",
       "\n",
       "        [[ 1.35760598, -0.95914529,  0.19619684,  0.45681916,\n",
       "           0.79313887],\n",
       "         [-1.58923401, -0.00963078, -1.88174572,  1.92677714,\n",
       "           0.86540998],\n",
       "         [ 0.52855288,  1.08675631, -2.19169504,  2.2082679 ,\n",
       "           3.22921208],\n",
       "         [ 0.01165933,  1.03977436, -0.54999324, -2.47894398,\n",
       "           0.94664003],\n",
       "         [-0.96261843,  1.29774561,  0.31230553, -0.2884904 ,\n",
       "          -0.23778583]]],\n",
       "\n",
       "\n",
       "       [[[-0.89105885,  0.16253159,  0.45724347,  1.37111554,\n",
       "          -1.29852443],\n",
       "         [ 1.95238723, -1.53738066,  0.36449074, -0.44686739,\n",
       "           0.77628101],\n",
       "         [-0.58428767,  0.82875472, -0.56190893,  0.38080419,\n",
       "          -0.63083073],\n",
       "         [-0.52287849,  1.70040309, -3.13975131, -0.31835776,\n",
       "          -0.03687352],\n",
       "         [-1.32727152,  1.13099201,  0.04421609, -2.94657587,\n",
       "          -0.00974452]],\n",
       "\n",
       "        [[-0.68868693,  1.48818004,  1.1578804 , -0.18505703,\n",
       "          -0.69603795],\n",
       "         [ 0.35589985, -1.28561581, -0.66616275,  0.26605581,\n",
       "           0.44562776],\n",
       "         [ 0.23169686, -0.53988597, -1.94046898, -0.13941169,\n",
       "          -2.05518863],\n",
       "         [-0.3706327 ,  1.81148428,  0.49397907, -1.59133612,\n",
       "          -2.58101545],\n",
       "         [-1.46603272,  0.11266733, -0.36516646, -2.51139952,\n",
       "          -0.26870666]],\n",
       "\n",
       "        [[ 0.37706792,  0.19217982,  1.44187001,  1.46747939,\n",
       "           2.34480545],\n",
       "         [ 0.97157659,  0.27995789, -0.6467258 , -1.16084625,\n",
       "           0.74363375],\n",
       "         [-0.00727813, -0.75975939,  1.91247851,  0.40646044,\n",
       "          -0.03092979],\n",
       "         [ 0.34751339, -0.22796116,  0.6831129 ,  0.47798783,\n",
       "          -0.24035911],\n",
       "         [ 0.19166171,  1.06149863,  0.53105514, -0.36786817,\n",
       "           0.31872886]]]])"
      ]
     },
     "execution_count": 52,
     "metadata": {},
     "output_type": "execute_result"
    }
   ],
   "source": [
    "row = 5\n",
    "cols = 5\n",
    "batch_size = 2\n",
    "input = np.random.randn(batch_size, n_channels,row, cols)\n",
    "input\n"
   ]
  },
  {
   "cell_type": "code",
   "execution_count": 53,
   "metadata": {},
   "outputs": [
    {
     "data": {
      "text/plain": [
       "array([[[0., 0., 0.],\n",
       "        [0., 0., 0.],\n",
       "        [0., 0., 0.]],\n",
       "\n",
       "       [[0., 0., 0.],\n",
       "        [0., 0., 0.],\n",
       "        [0., 0., 0.]],\n",
       "\n",
       "       [[0., 0., 0.],\n",
       "        [0., 0., 0.],\n",
       "        [0., 0., 0.]]])"
      ]
     },
     "execution_count": 53,
     "metadata": {},
     "output_type": "execute_result"
    }
   ],
   "source": [
    "output_shape = (num_filter, int((row + 2*padding - kernel_size[0])/stride + 1), int((cols + 2*padding - kernel_size[1])/stride + 1))\n",
    "\n",
    "output =  np.zeros( output_shape)\n",
    "output"
   ]
  },
  {
   "cell_type": "code",
   "execution_count": 54,
   "metadata": {},
   "outputs": [],
   "source": [
    "output_grad = np.random.randn(*output_shape)"
   ]
  },
  {
   "cell_type": "code",
   "execution_count": 55,
   "metadata": {},
   "outputs": [
    {
     "data": {
      "text/plain": [
       "array([[[[ 0.        ,  0.        ,  0.        ,  0.        ,\n",
       "           0.        ,  0.        ,  0.        ],\n",
       "         [ 0.        , -0.81936614, -0.24200816, -1.19256164,\n",
       "           1.40125863,  1.67646243,  0.        ],\n",
       "         [ 0.        ,  0.25715611,  0.51513027,  2.18946655,\n",
       "          -0.06640023, -0.50173168,  0.        ],\n",
       "         [ 0.        ,  0.51887138,  0.59468809, -0.3714143 ,\n",
       "          -0.47715862,  1.59513974,  0.        ],\n",
       "         [ 0.        ,  0.89773427, -1.23253664,  3.18596911,\n",
       "          -0.29458732,  0.73859799,  0.        ],\n",
       "         [ 0.        , -2.16489822, -0.48999919, -2.24804261,\n",
       "           0.66145544, -0.99837207,  0.        ],\n",
       "         [ 0.        ,  0.        ,  0.        ,  0.        ,\n",
       "           0.        ,  0.        ,  0.        ]],\n",
       "\n",
       "        [[ 0.        ,  0.        ,  0.        ,  0.        ,\n",
       "           0.        ,  0.        ,  0.        ],\n",
       "         [ 0.        ,  0.65172439, -0.52674415,  0.81381309,\n",
       "           2.34503397,  0.75258697,  0.        ],\n",
       "         [ 0.        ,  0.0512744 , -0.76841714, -1.1651662 ,\n",
       "          -0.17690113,  0.03229236,  0.        ],\n",
       "         [ 0.        ,  0.89980069, -1.28973432,  1.41027578,\n",
       "          -1.13912803,  1.00741999,  0.        ],\n",
       "         [ 0.        , -1.41616572, -0.31451381,  0.80598681,\n",
       "           0.63490699, -1.81621171,  0.        ],\n",
       "         [ 0.        , -0.29735088,  0.69289712,  0.38187456,\n",
       "           0.75766563,  0.22829801,  0.        ],\n",
       "         [ 0.        ,  0.        ,  0.        ,  0.        ,\n",
       "           0.        ,  0.        ,  0.        ]],\n",
       "\n",
       "        [[ 0.        ,  0.        ,  0.        ,  0.        ,\n",
       "           0.        ,  0.        ,  0.        ],\n",
       "         [ 0.        ,  1.35760598, -0.95914529,  0.19619684,\n",
       "           0.45681916,  0.79313887,  0.        ],\n",
       "         [ 0.        , -1.58923401, -0.00963078, -1.88174572,\n",
       "           1.92677714,  0.86540998,  0.        ],\n",
       "         [ 0.        ,  0.52855288,  1.08675631, -2.19169504,\n",
       "           2.2082679 ,  3.22921208,  0.        ],\n",
       "         [ 0.        ,  0.01165933,  1.03977436, -0.54999324,\n",
       "          -2.47894398,  0.94664003,  0.        ],\n",
       "         [ 0.        , -0.96261843,  1.29774561,  0.31230553,\n",
       "          -0.2884904 , -0.23778583,  0.        ],\n",
       "         [ 0.        ,  0.        ,  0.        ,  0.        ,\n",
       "           0.        ,  0.        ,  0.        ]]],\n",
       "\n",
       "\n",
       "       [[[ 0.        ,  0.        ,  0.        ,  0.        ,\n",
       "           0.        ,  0.        ,  0.        ],\n",
       "         [ 0.        , -0.89105885,  0.16253159,  0.45724347,\n",
       "           1.37111554, -1.29852443,  0.        ],\n",
       "         [ 0.        ,  1.95238723, -1.53738066,  0.36449074,\n",
       "          -0.44686739,  0.77628101,  0.        ],\n",
       "         [ 0.        , -0.58428767,  0.82875472, -0.56190893,\n",
       "           0.38080419, -0.63083073,  0.        ],\n",
       "         [ 0.        , -0.52287849,  1.70040309, -3.13975131,\n",
       "          -0.31835776, -0.03687352,  0.        ],\n",
       "         [ 0.        , -1.32727152,  1.13099201,  0.04421609,\n",
       "          -2.94657587, -0.00974452,  0.        ],\n",
       "         [ 0.        ,  0.        ,  0.        ,  0.        ,\n",
       "           0.        ,  0.        ,  0.        ]],\n",
       "\n",
       "        [[ 0.        ,  0.        ,  0.        ,  0.        ,\n",
       "           0.        ,  0.        ,  0.        ],\n",
       "         [ 0.        , -0.68868693,  1.48818004,  1.1578804 ,\n",
       "          -0.18505703, -0.69603795,  0.        ],\n",
       "         [ 0.        ,  0.35589985, -1.28561581, -0.66616275,\n",
       "           0.26605581,  0.44562776,  0.        ],\n",
       "         [ 0.        ,  0.23169686, -0.53988597, -1.94046898,\n",
       "          -0.13941169, -2.05518863,  0.        ],\n",
       "         [ 0.        , -0.3706327 ,  1.81148428,  0.49397907,\n",
       "          -1.59133612, -2.58101545,  0.        ],\n",
       "         [ 0.        , -1.46603272,  0.11266733, -0.36516646,\n",
       "          -2.51139952, -0.26870666,  0.        ],\n",
       "         [ 0.        ,  0.        ,  0.        ,  0.        ,\n",
       "           0.        ,  0.        ,  0.        ]],\n",
       "\n",
       "        [[ 0.        ,  0.        ,  0.        ,  0.        ,\n",
       "           0.        ,  0.        ,  0.        ],\n",
       "         [ 0.        ,  0.37706792,  0.19217982,  1.44187001,\n",
       "           1.46747939,  2.34480545,  0.        ],\n",
       "         [ 0.        ,  0.97157659,  0.27995789, -0.6467258 ,\n",
       "          -1.16084625,  0.74363375,  0.        ],\n",
       "         [ 0.        , -0.00727813, -0.75975939,  1.91247851,\n",
       "           0.40646044, -0.03092979,  0.        ],\n",
       "         [ 0.        ,  0.34751339, -0.22796116,  0.6831129 ,\n",
       "           0.47798783, -0.24035911,  0.        ],\n",
       "         [ 0.        ,  0.19166171,  1.06149863,  0.53105514,\n",
       "          -0.36786817,  0.31872886,  0.        ],\n",
       "         [ 0.        ,  0.        ,  0.        ,  0.        ,\n",
       "           0.        ,  0.        ,  0.        ]]]])"
      ]
     },
     "execution_count": 55,
     "metadata": {},
     "output_type": "execute_result"
    }
   ],
   "source": [
    "input_padded = np.zeros((batch_size,n_channels, row + 2*padding, cols + 2*padding))\n",
    "input_padded[:,:, padding:row + padding , padding:cols + padding] = input\n",
    "input_padded"
   ]
  },
  {
   "cell_type": "code",
   "execution_count": 56,
   "metadata": {},
   "outputs": [
    {
     "ename": "ValueError",
     "evalue": "operands could not be broadcast together with shapes (2,3,3,3) (3,3,3,3) ",
     "output_type": "error",
     "traceback": [
      "\u001b[0;31m---------------------------------------------------------------------------\u001b[0m",
      "\u001b[0;31mValueError\u001b[0m                                Traceback (most recent call last)",
      "Cell \u001b[0;32mIn[56], line 4\u001b[0m\n\u001b[1;32m      2\u001b[0m \u001b[38;5;28;01mfor\u001b[39;00m j \u001b[38;5;129;01min\u001b[39;00m \u001b[38;5;28mrange\u001b[39m(\u001b[38;5;241m0\u001b[39m, cols \u001b[38;5;241m+\u001b[39m \u001b[38;5;241m2\u001b[39m\u001b[38;5;241m*\u001b[39mpadding \u001b[38;5;241m-\u001b[39m kernel_size[\u001b[38;5;241m1\u001b[39m] \u001b[38;5;241m+\u001b[39m \u001b[38;5;241m1\u001b[39m, stride):\n\u001b[1;32m      3\u001b[0m     req_mat \u001b[38;5;241m=\u001b[39m input_padded[:,:, i:i\u001b[38;5;241m+\u001b[39mkernel_size[\u001b[38;5;241m0\u001b[39m], j:j\u001b[38;5;241m+\u001b[39mkernel_size[\u001b[38;5;241m1\u001b[39m]]   \n\u001b[0;32m----> 4\u001b[0m     req_mat \u001b[38;5;241m=\u001b[39m np\u001b[38;5;241m.\u001b[39msum(\u001b[43mreq_mat\u001b[49m\u001b[43m \u001b[49m\u001b[38;5;241;43m*\u001b[39;49m\u001b[43mweights\u001b[49m, axis \u001b[38;5;241m=\u001b[39m (\u001b[38;5;241m1\u001b[39m,\u001b[38;5;241m2\u001b[39m,\u001b[38;5;241m3\u001b[39m)) \u001b[38;5;241m+\u001b[39m biases\n\u001b[1;32m      5\u001b[0m     \u001b[38;5;28mprint\u001b[39m(req_mat)                 \n\u001b[1;32m      6\u001b[0m     output[:, \u001b[38;5;28mint\u001b[39m(i\u001b[38;5;241m/\u001b[39mstride), \u001b[38;5;28mint\u001b[39m(j\u001b[38;5;241m/\u001b[39mstride)] \u001b[38;5;241m=\u001b[39m req_mat\n",
      "\u001b[0;31mValueError\u001b[0m: operands could not be broadcast together with shapes (2,3,3,3) (3,3,3,3) "
     ]
    }
   ],
   "source": [
    "for i in range(0, row + 2*padding - kernel_size[0] + 1, stride):\n",
    "            for j in range(0, cols + 2*padding - kernel_size[1] + 1, stride):\n",
    "                req_mat = input_padded[:,:, i:i+kernel_size[0], j:j+kernel_size[1]]   \n",
    "                req_mat = np.sum(req_mat *weights, axis = (1,2,3)) + biases\n",
    "                print(req_mat)                 \n",
    "                output[:, int(i/stride), int(j/stride)] = req_mat\n",
    "                \n",
    "output"
   ]
  },
  {
   "cell_type": "code",
   "execution_count": 62,
   "metadata": {},
   "outputs": [
    {
     "data": {
      "text/plain": [
       "array([[[2., 2., 2.],\n",
       "        [2., 2., 2.]],\n",
       "\n",
       "       [[2., 2., 2.],\n",
       "        [2., 2., 2.]]])"
      ]
     },
     "execution_count": 62,
     "metadata": {},
     "output_type": "execute_result"
    }
   ],
   "source": [
    "a1 = np.ones(12).reshape(2, 2, 3)\n",
    "a2 = np.ones(6).reshape(2, 3) * 2\n",
    "\n",
    "a1 * a2\n",
    "# a2"
   ]
  },
  {
   "cell_type": "code",
   "execution_count": 13,
   "metadata": {},
   "outputs": [
    {
     "data": {
      "text/plain": [
       "array([[1., 1., 1., 1., 1.],\n",
       "       [1., 1., 1., 1., 1.],\n",
       "       [1., 1., 1., 1., 1.]])"
      ]
     },
     "execution_count": 13,
     "metadata": {},
     "output_type": "execute_result"
    }
   ],
   "source": [
    "import numpy as np\n",
    "\n",
    "a1 = np.ones(15).reshape(3, 5)\n",
    "a2 = np.ones(3)\n",
    "a3 = np.ones(5)\n",
    "np.array([a2]).T @ np.array([a3])"
   ]
  },
  {
   "cell_type": "code",
   "execution_count": 14,
   "metadata": {},
   "outputs": [
    {
     "data": {
      "text/plain": [
       "array([15., 15., 15., 15., 15., 15., 15., 15., 15., 15., 15., 15., 15.,\n",
       "       15., 15., 15.])"
      ]
     },
     "execution_count": 14,
     "metadata": {},
     "output_type": "execute_result"
    }
   ],
   "source": [
    "a1 = np.ones(15)\n",
    "a2 = np.ones(240).reshape(15, 16)\n",
    "a1 @ a2"
   ]
  }
 ],
 "metadata": {
  "kernelspec": {
   "display_name": "main_gate",
   "language": "python",
   "name": "python3"
  },
  "language_info": {
   "codemirror_mode": {
    "name": "ipython",
    "version": 3
   },
   "file_extension": ".py",
   "mimetype": "text/x-python",
   "name": "python",
   "nbconvert_exporter": "python",
   "pygments_lexer": "ipython3",
   "version": "3.8.19"
  }
 },
 "nbformat": 4,
 "nbformat_minor": 2
}
